{
 "cells": [
  {
   "cell_type": "markdown",
   "metadata": {},
   "source": [
    " # Descripcion del proyecto\n",
    "    Analizaremos los datos de una gran tienda en linea, junto con el equipo de marketing tenemos una lista de hipótesis que pueden ayudar a aumentar los ingresos. \n",
    "    \n",
    "  **Objetivo:** Priorizar estas hipótesis, lanzar un test A/B y analizar los resultados."
   ]
  },
  {
   "cell_type": "markdown",
   "metadata": {},
   "source": [
    "## Lectura general de los datos"
   ]
  },
  {
   "cell_type": "code",
   "execution_count": 1,
   "metadata": {},
   "outputs": [],
   "source": [
    "#importar librerias\n",
    "import pandas as pd\n",
    "import datetime as dt\n",
    "import numpy as np\n",
    "import matplotlib.pyplot as plt\n",
    "from scipy import stats as st\n",
    "import scipy.stats as stats"
   ]
  },
  {
   "cell_type": "code",
   "execution_count": 2,
   "metadata": {},
   "outputs": [],
   "source": [
    "# Realizamos lectura de datos \n",
    "df_hipotesis = pd.read_csv('/datasets/hypotheses_us.csv', sep=',')\n",
    "df_hipotesis[['Hypothesis', 'Reach', 'Impact', 'Confidence', 'Effort']] = df_hipotesis['Hypothesis;Reach;Impact;Confidence;Effort'].str.split(';', expand=True)\n",
    "\n",
    "data_ordenes = pd.read_csv('/datasets/orders_us.csv')\n",
    "data_visitas =  pd.read_csv('/datasets/visits_us.csv')\n",
    "\n",
    "# Convertir en minusculas y renombrar el nombre de las columnas\n",
    "data_ordenes.columns = data_ordenes.columns.str.lower()\n",
    "df_hipotesis.columns = df_hipotesis.columns.str.lower()\n",
    "\n",
    "# Cambiar el tipo de dato\n",
    "df_hipotesis[['reach', 'impact', 'confidence', 'effort']] = df_hipotesis[['reach', 'impact', 'confidence', 'effort']].astype('int')\n",
    "\n"
   ]
  },
  {
   "cell_type": "markdown",
   "metadata": {},
   "source": [
    "### Informacion general"
   ]
  },
  {
   "cell_type": "code",
   "execution_count": 3,
   "metadata": {},
   "outputs": [
    {
     "name": "stdout",
     "output_type": "stream",
     "text": [
      "<class 'pandas.core.frame.DataFrame'>\n",
      "RangeIndex: 1197 entries, 0 to 1196\n",
      "Data columns (total 5 columns):\n",
      " #   Column         Non-Null Count  Dtype  \n",
      "---  ------         --------------  -----  \n",
      " 0   transactionid  1197 non-null   int64  \n",
      " 1   visitorid      1197 non-null   int64  \n",
      " 2   date           1197 non-null   object \n",
      " 3   revenue        1197 non-null   float64\n",
      " 4   group          1197 non-null   object \n",
      "dtypes: float64(1), int64(2), object(2)\n",
      "memory usage: 46.9+ KB\n"
     ]
    }
   ],
   "source": [
    "data_ordenes.info()"
   ]
  },
  {
   "cell_type": "code",
   "execution_count": 4,
   "metadata": {},
   "outputs": [
    {
     "data": {
      "text/html": [
       "<div>\n",
       "<style scoped>\n",
       "    .dataframe tbody tr th:only-of-type {\n",
       "        vertical-align: middle;\n",
       "    }\n",
       "\n",
       "    .dataframe tbody tr th {\n",
       "        vertical-align: top;\n",
       "    }\n",
       "\n",
       "    .dataframe thead th {\n",
       "        text-align: right;\n",
       "    }\n",
       "</style>\n",
       "<table border=\"1\" class=\"dataframe\">\n",
       "  <thead>\n",
       "    <tr style=\"text-align: right;\">\n",
       "      <th></th>\n",
       "      <th>date</th>\n",
       "      <th>group</th>\n",
       "      <th>visits</th>\n",
       "    </tr>\n",
       "  </thead>\n",
       "  <tbody>\n",
       "    <tr>\n",
       "      <th>0</th>\n",
       "      <td>2019-08-01</td>\n",
       "      <td>A</td>\n",
       "      <td>719</td>\n",
       "    </tr>\n",
       "    <tr>\n",
       "      <th>1</th>\n",
       "      <td>2019-08-02</td>\n",
       "      <td>A</td>\n",
       "      <td>619</td>\n",
       "    </tr>\n",
       "  </tbody>\n",
       "</table>\n",
       "</div>"
      ],
      "text/plain": [
       "         date group  visits\n",
       "0  2019-08-01     A     719\n",
       "1  2019-08-02     A     619"
      ]
     },
     "execution_count": 4,
     "metadata": {},
     "output_type": "execute_result"
    }
   ],
   "source": [
    "# tenemos 62 filas\n",
    "# igual cantidad de datos para A y B\n",
    "# mes de agosto 2019\n",
    "data_visitas.head(2)"
   ]
  },
  {
   "cell_type": "code",
   "execution_count": 5,
   "metadata": {},
   "outputs": [
    {
     "name": "stdout",
     "output_type": "stream",
     "text": [
      "<class 'pandas.core.frame.DataFrame'>\n",
      "RangeIndex: 1197 entries, 0 to 1196\n",
      "Data columns (total 5 columns):\n",
      " #   Column         Non-Null Count  Dtype  \n",
      "---  ------         --------------  -----  \n",
      " 0   transactionid  1197 non-null   int64  \n",
      " 1   visitorid      1197 non-null   int64  \n",
      " 2   date           1197 non-null   object \n",
      " 3   revenue        1197 non-null   float64\n",
      " 4   group          1197 non-null   object \n",
      "dtypes: float64(1), int64(2), object(2)\n",
      "memory usage: 46.9+ KB\n"
     ]
    }
   ],
   "source": [
    "#Tenemos 1197 filas\n",
    "# grupo A 557\n",
    "# grupo B 640\n",
    "# todo el mes de agosto\n",
    "# Hay dias que cojieron mas datos que otros\n",
    "data_ordenes.info()"
   ]
  },
  {
   "cell_type": "code",
   "execution_count": 6,
   "metadata": {},
   "outputs": [],
   "source": [
    "grupo_a = data_ordenes[data_ordenes['group'] == 'A']['visitorid']\n",
    "grupo_b = data_ordenes[data_ordenes['group'] == 'B']['visitorid']\n"
   ]
  },
  {
   "cell_type": "code",
   "execution_count": 7,
   "metadata": {},
   "outputs": [
    {
     "data": {
      "text/plain": [
       "0    3957174400\n",
       "1    3984495233\n",
       "dtype: int64"
      ]
     },
     "execution_count": 7,
     "metadata": {},
     "output_type": "execute_result"
    }
   ],
   "source": [
    "# Usuarios que están en ambos grupos\n",
    "usuarios_en_ambos = pd.Series(list(set(grupo_a) & set(grupo_b)))\n",
    "\n",
    "# Eliminar esos usuarios del DataFrame original\n",
    "df_ordenes = data_ordenes[~data_ordenes['visitorid'].isin(usuarios_en_ambos)]\n",
    "usuarios_en_ambos.head(2)"
   ]
  },
  {
   "cell_type": "markdown",
   "metadata": {},
   "source": [
    "grupo a 468 filas, usuarios unicos 445\n",
    "grupo b 548 filas, usuarios unicos 528 "
   ]
  },
  {
   "cell_type": "code",
   "execution_count": 8,
   "metadata": {},
   "outputs": [],
   "source": [
    "# Comprobamos si los datos del grupo A son los mismos del B\n",
    "datos_duplicados = data_ordenes[data_ordenes['visitorid'].duplicated()]\n",
    "\n",
    "#Cantidad de datos duplicados en el grupo A\n",
    "datos_duplicados[datos_duplicados['group'] == 'A']\n",
    "\n",
    "#Cantidad de datos duplicados en el grupo B\n",
    "duplicados_b = datos_duplicados[datos_duplicados['group'] == 'B']"
   ]
  },
  {
   "cell_type": "code",
   "execution_count": 9,
   "metadata": {},
   "outputs": [],
   "source": [
    "#Eliminamos duplicados"
   ]
  },
  {
   "cell_type": "markdown",
   "metadata": {},
   "source": [
    "Comprobamos que del grupo A hay 557 visitantes y en el grupo B, 640 visitantes. Se verifico que en el grupo B hay 84 visitantes duplicados. Por lo tanto para que las muestras queden iguales se procede a eliminar los datos duplicados del grupo B.\n"
   ]
  },
  {
   "cell_type": "markdown",
   "metadata": {},
   "source": []
  },
  {
   "cell_type": "markdown",
   "metadata": {},
   "source": [
    "### Realizamos una prueba de normalidad "
   ]
  },
  {
   "cell_type": "markdown",
   "metadata": {},
   "source": [
    "#### Grupo A"
   ]
  },
  {
   "cell_type": "code",
   "execution_count": 10,
   "metadata": {},
   "outputs": [
    {
     "data": {
      "text/html": [
       "<div>\n",
       "<style scoped>\n",
       "    .dataframe tbody tr th:only-of-type {\n",
       "        vertical-align: middle;\n",
       "    }\n",
       "\n",
       "    .dataframe tbody tr th {\n",
       "        vertical-align: top;\n",
       "    }\n",
       "\n",
       "    .dataframe thead th {\n",
       "        text-align: right;\n",
       "    }\n",
       "</style>\n",
       "<table border=\"1\" class=\"dataframe\">\n",
       "  <thead>\n",
       "    <tr style=\"text-align: right;\">\n",
       "      <th></th>\n",
       "      <th>transactionid</th>\n",
       "      <th>visitorid</th>\n",
       "      <th>date</th>\n",
       "      <th>revenue</th>\n",
       "      <th>group</th>\n",
       "    </tr>\n",
       "  </thead>\n",
       "  <tbody>\n",
       "    <tr>\n",
       "      <th>0</th>\n",
       "      <td>3667963787</td>\n",
       "      <td>3312258926</td>\n",
       "      <td>2019-08-15</td>\n",
       "      <td>30.4</td>\n",
       "      <td>B</td>\n",
       "    </tr>\n",
       "    <tr>\n",
       "      <th>1</th>\n",
       "      <td>2804400009</td>\n",
       "      <td>3642806036</td>\n",
       "      <td>2019-08-15</td>\n",
       "      <td>15.2</td>\n",
       "      <td>B</td>\n",
       "    </tr>\n",
       "  </tbody>\n",
       "</table>\n",
       "</div>"
      ],
      "text/plain": [
       "   transactionid   visitorid        date  revenue group\n",
       "0     3667963787  3312258926  2019-08-15     30.4     B\n",
       "1     2804400009  3642806036  2019-08-15     15.2     B"
      ]
     },
     "execution_count": 10,
     "metadata": {},
     "output_type": "execute_result"
    }
   ],
   "source": [
    "df_ordenes.head(2)"
   ]
  },
  {
   "cell_type": "code",
   "execution_count": 11,
   "metadata": {},
   "outputs": [],
   "source": [
    "# filtramos los ingresos del grupo A\n",
    "ganancias_a = df_ordenes[df_ordenes['group'] == 'A']['revenue']\n"
   ]
  },
  {
   "cell_type": "code",
   "execution_count": 12,
   "metadata": {},
   "outputs": [
    {
     "name": "stdout",
     "output_type": "stream",
     "text": [
      "p-value:  2.7709587438572045e-31\n",
      "Hipótesis nula rechazada: la distribución no es normal\n"
     ]
    }
   ],
   "source": [
    "#Realizamos la prueba de normalidad\n",
    "alpha = .05 # nivel de significación\n",
    "\n",
    "results = st.shapiro(ganancias_a)\n",
    "p_value = results[1] # el segundo valor en la matriz de resultados (con índice 1) - el valor p\n",
    "\n",
    "print('p-value: ', p_value)\n",
    "\n",
    "if (p_value < alpha):\n",
    "    print(\"Hipótesis nula rechazada: la distribución no es normal\")\n",
    "else:\n",
    "    print(\"No se pudo rechazar la hipótesis nula: la distribución parece ser normal\")\n"
   ]
  },
  {
   "cell_type": "markdown",
   "metadata": {},
   "source": [
    "#### Grupo B"
   ]
  },
  {
   "cell_type": "code",
   "execution_count": 13,
   "metadata": {},
   "outputs": [
    {
     "name": "stdout",
     "output_type": "stream",
     "text": [
      "p-value:  4.203895392974451e-45\n",
      "Hipótesis nula rechazada: la distribución no es normal\n"
     ]
    }
   ],
   "source": [
    "# filtramos los ingresos del grupo A\n",
    "ganancias_b = df_ordenes[df_ordenes['group'] == 'B']['revenue']\n",
    "\n",
    "#Realizamos la prueba de normalidad\n",
    "\n",
    "results = st.shapiro(ganancias_b)\n",
    "p_value = results[1] # el segundo valor en la matriz de resultados (con índice 1) - el valor p\n",
    "\n",
    "print('p-value: ', p_value)\n",
    "\n",
    "if (p_value < alpha):\n",
    "    print(\"Hipótesis nula rechazada: la distribución no es normal\")\n",
    "else:\n",
    "    print(\"No se pudo rechazar la hipótesis nula: la distribución parece ser normal\")"
   ]
  },
  {
   "cell_type": "markdown",
   "metadata": {},
   "source": [
    "## parte 1 priorizar hipotesis"
   ]
  },
  {
   "cell_type": "markdown",
   "metadata": {},
   "source": [
    "### Aplicar el framework ICE para priorizar hipótesis."
   ]
  },
  {
   "cell_type": "code",
   "execution_count": 14,
   "metadata": {},
   "outputs": [
    {
     "name": "stdout",
     "output_type": "stream",
     "text": [
      "                                          hypothesis        ICE\n",
      "8  Launch a promotion that gives users discounts ...  16.200000\n",
      "0  Add two new channels for attracting traffic. T...  13.333333\n",
      "7  Add a subscription form to all the main pages....  11.200000\n",
      "6  Show banners with current offers and sales on ...   8.000000\n",
      "2  Add product recommendation blocks to the store...   7.000000\n",
      "1  Launch your own delivery service. This will sh...   2.000000\n",
      "5  Add a customer review page. This will increase...   1.333333\n",
      "3  Change the category structure. This will incre...   1.125000\n",
      "4  Change the background color on the main page. ...   1.000000\n"
     ]
    }
   ],
   "source": [
    "\n",
    "df_hipotesis['ICE'] = (\n",
    "    df_hipotesis['impact']\n",
    "    * df_hipotesis['confidence']\n",
    ") / df_hipotesis['effort']\n",
    "print(df_hipotesis[['hypothesis', 'ICE']].sort_values(by='ICE', ascending=False))"
   ]
  },
  {
   "cell_type": "markdown",
   "metadata": {},
   "source": [
    "**Conclusion:**\n",
    "    ICE da las hipotesis 8, 0, 7,6 como las mas prometedoras"
   ]
  },
  {
   "cell_type": "markdown",
   "metadata": {},
   "source": [
    "### Aplicar el framework RICE para priorizar hipótesis."
   ]
  },
  {
   "cell_type": "code",
   "execution_count": 15,
   "metadata": {},
   "outputs": [
    {
     "name": "stdout",
     "output_type": "stream",
     "text": [
      "                                          hypothesis   RICE\n",
      "7  Add a subscription form to all the main pages....  112.0\n",
      "2  Add product recommendation blocks to the store...   56.0\n",
      "0  Add two new channels for attracting traffic. T...   40.0\n",
      "6  Show banners with current offers and sales on ...   40.0\n",
      "8  Launch a promotion that gives users discounts ...   16.2\n",
      "3  Change the category structure. This will incre...    9.0\n",
      "1  Launch your own delivery service. This will sh...    4.0\n",
      "5  Add a customer review page. This will increase...    4.0\n",
      "4  Change the background color on the main page. ...    3.0\n"
     ]
    }
   ],
   "source": [
    "df_hipotesis['RICE'] = (df_hipotesis['reach']*df_hipotesis['impact']*df_hipotesis['confidence'])/df_hipotesis['effort']\n",
    "print(df_hipotesis[['hypothesis','RICE']].sort_values(by='RICE', ascending=False))"
   ]
  },
  {
   "cell_type": "markdown",
   "metadata": {},
   "source": [
    "**Conclusión:** RICE da las hipoteisis 7, 2, 0,6 y 8 como las prometedoras"
   ]
  },
  {
   "cell_type": "markdown",
   "metadata": {},
   "source": [
    "### cómo cambia la priorización de hipótesis cuando utilizas RICE en lugar de ICE . Proporciona una explicación de los cambios."
   ]
  },
  {
   "cell_type": "markdown",
   "metadata": {},
   "source": [
    "En Ice, la hipotesis 8 estaba en primer porque es alto el numero de personas que afectará. En cambio en RICE la hipotesis 7 esta en primer lugar por que el impacto y la confianza es mayor a la hipotesis 8."
   ]
  },
  {
   "cell_type": "markdown",
   "metadata": {},
   "source": [
    "## Analisis del test A/B"
   ]
  },
  {
   "cell_type": "markdown",
   "metadata": {},
   "source": [
    "### Representa gráficamente el ingreso acumulado por grupo. Haz conclusiones y conjeturas"
   ]
  },
  {
   "cell_type": "code",
   "execution_count": 16,
   "metadata": {},
   "outputs": [
    {
     "data": {
      "text/plain": [
       "<matplotlib.legend.Legend at 0x7f8ae6b30dc0>"
      ]
     },
     "execution_count": 16,
     "metadata": {},
     "output_type": "execute_result"
    },
    {
     "data": {
      "image/png": "[encoded data removed]",
      "text/plain": [
       "<Figure size 640x480 with 1 Axes>"
      ]
     },
     "metadata": {},
     "output_type": "display_data"
    }
   ],
   "source": [
    "# crea una matriz con valores únicos de parejas fecha-grupo\n",
    "datesGroups = df_ordenes[['date','group']].drop_duplicates()\n",
    "\n",
    "#Vamos a recopilar en varios pasos los datos diarios acumulados agregados sobre pedidos\n",
    "ordersAggregated = datesGroups.apply(lambda x: df_ordenes[np.logical_and(df_ordenes['date'] <= x['date'], df_ordenes['group'] == x['group'])].agg({'date' : 'max', 'group' : 'max', 'transactionid' : pd.Series.nunique, 'visitorid' : pd.Series.nunique, 'revenue' : 'sum'}), axis=1).sort_values(by=['date','group'])\n",
    "\n",
    "# obtener los datos diarios acumulados agregados sobre los visitantes\n",
    "datesGroup = data_visitas[['date','group']].drop_duplicates()\n",
    "visitorsAggregated = datesGroup.apply(lambda x: data_visitas[np.logical_and(data_visitas['date'] <= x['date'], data_visitas['group'] == x['group'])].agg({'date' : 'max', 'group' : 'max', 'visits' : 'sum'}), axis=1).sort_values(by=['date','group'])\n",
    "\n",
    "#  fusiona las dos tablas en una y da a sus columnas nombres descriptivos\n",
    "cumulativeData = ordersAggregated.merge(visitorsAggregated, left_on=['date', 'group'], right_on=['date', 'group'])\n",
    "cumulativeData.columns = ['date', 'group', 'orders', 'buyers', 'revenue', 'visitors']\n",
    "\n",
    "#Creamos gráficos de ingresos acumulados por día y grupo\n",
    "\n",
    "# DataFrame con pedidos acumulados e ingresos acumulados por día, grupo A\n",
    "cumulativeRevenueA = cumulativeData[cumulativeData['group']=='A'][['date','revenue', 'orders']]\n",
    "\n",
    "# DataFrame con pedidos acumulados e ingresos acumulados por día, grupo B\n",
    "cumulativeRevenueB = cumulativeData[cumulativeData['group']=='B'][['date','revenue', 'orders']]\n",
    "\n",
    "# Trazar el gráfico de ingresos del grupo A\n",
    "plt.plot(cumulativeRevenueA['date'], cumulativeRevenueA['revenue'], label='A')\n",
    "\n",
    "# Trazar el gráfico de ingresos del grupo B\n",
    "plt.plot(cumulativeRevenueB['date'], cumulativeRevenueB['revenue'], label='B')\n",
    "plt.title('Ingreso acumulado por grupo')\n",
    "plt.legend()"
   ]
  },
  {
   "cell_type": "markdown",
   "metadata": {},
   "source": [
    "**Conclusion:**  Los ingresos acomulados por grupo siguen en aumento, aunque es mayor para el grupo B. se ve reflejado un pico, quizas sean por valores atipicos"
   ]
  },
  {
   "cell_type": "markdown",
   "metadata": {},
   "source": [
    "### Representación gráfica del tamaño de pedido promedio acumulado por grupo."
   ]
  },
  {
   "cell_type": "code",
   "execution_count": 17,
   "metadata": {},
   "outputs": [
    {
     "data": {
      "text/plain": [
       "<matplotlib.legend.Legend at 0x7f8ae6c15430>"
      ]
     },
     "execution_count": 17,
     "metadata": {},
     "output_type": "execute_result"
    },
    {
     "data": {
      "image/png": "[encoded data removed]",
      "text/plain": [
       "<Figure size 640x480 with 1 Axes>"
      ]
     },
     "metadata": {},
     "output_type": "display_data"
    }
   ],
   "source": [
    "# Dividir los ingresos acumulados entre el número acumulado de pedidos\n",
    "plt.plot(cumulativeRevenueA['date'], cumulativeRevenueA['revenue']/cumulativeRevenueA['orders'], label='A')\n",
    "plt.plot(cumulativeRevenueB['date'], cumulativeRevenueB['revenue']/cumulativeRevenueB['orders'], label='B')\n",
    "plt.legend()"
   ]
  },
  {
   "cell_type": "markdown",
   "metadata": {},
   "source": [
    "**Conclusion:** El tamaño promedio de compra parece estabilizarse al final de la prueba para ambos grupos, pero para B parece estabilizarse"
   ]
  },
  {
   "cell_type": "markdown",
   "metadata": {},
   "source": [
    "### Representación gráfica de la diferencia relativa en el tamaño de pedido promedio acumulado para el grupo B en comparación con el grupo A. "
   ]
  },
  {
   "cell_type": "code",
   "execution_count": 18,
   "metadata": {},
   "outputs": [
    {
     "data": {
      "text/plain": [
       "<matplotlib.lines.Line2D at 0x7f8ae6aa4460>"
      ]
     },
     "execution_count": 18,
     "metadata": {},
     "output_type": "execute_result"
    },
    {
     "data": {
      "image/png": "[encoded data removed]",
      "text/plain": [
       "<Figure size 640x480 with 1 Axes>"
      ]
     },
     "metadata": {},
     "output_type": "display_data"
    }
   ],
   "source": [
    "# reunir los datos en un DataFrame\n",
    "mergedCumulativeRevenue = cumulativeRevenueA.merge(cumulativeRevenueB, left_on='date', right_on='date', how='left', suffixes=['A', 'B'])\n",
    "\n",
    "# trazar un gráfico de diferencia relativa para los tamaños de compra promedio\n",
    "plt.plot(mergedCumulativeRevenue['date'], (mergedCumulativeRevenue['revenueB']/mergedCumulativeRevenue['ordersB'])/(mergedCumulativeRevenue['revenueA']/mergedCumulativeRevenue['ordersA'])-1)\n",
    "\n",
    "# agregar el eje X\n",
    "plt.axhline(y=0, color='black', linestyle='--')"
   ]
  },
  {
   "cell_type": "markdown",
   "metadata": {},
   "source": [
    "**Conclusión:** En varios puntos, la diferencia entre los segmentos aumenta. ¡Esto significa que deben haber algunos pedidos grandes y valores atípicos!"
   ]
  },
  {
   "cell_type": "markdown",
   "metadata": {},
   "source": [
    "###  Representación gráfica de las tasas de conversión diarias de los dos grupos y describe la diferencia"
   ]
  },
  {
   "cell_type": "code",
   "execution_count": 19,
   "metadata": {},
   "outputs": [
    {
     "data": {
      "text/plain": [
       "(0.0, 31.0, 0.0, 0.15)"
      ]
     },
     "execution_count": 19,
     "metadata": {},
     "output_type": "execute_result"
    },
    {
     "data": {
      "image/png": "[encoded data removed]",
      "text/plain": [
       "<Figure size 640x480 with 1 Axes>"
      ]
     },
     "metadata": {},
     "output_type": "display_data"
    }
   ],
   "source": [
    "#Calcula la tasa de conversión de cada grupo como la relación entre los pedidos y el número de visitas de cada día.\n",
    "\n",
    "# calcular la conversión acumulada\n",
    "cumulativeData['conversion'] = cumulativeData['orders']/cumulativeData['visitors']\n",
    "\n",
    "# seleccionar datos en el grupo A\n",
    "cumulativeDataA = cumulativeData[cumulativeData['group']=='A']\n",
    "\n",
    "# seleccionar datos en el grupo B\n",
    "cumulativeDataB = cumulativeData[cumulativeData['group']=='B']\n",
    "\n",
    "# trazar los gráficos\n",
    "plt.plot(cumulativeDataA['date'], cumulativeDataA['conversion'], label='A')\n",
    "plt.plot(cumulativeDataB['date'], cumulativeDataB['conversion'], label='B')\n",
    "plt.legend()\n",
    "\n",
    "# establecer la escala de los ejes\n",
    "plt.axis([\"2019-08-01\", '2019-09-31', 0, 0.15])"
   ]
  },
  {
   "cell_type": "markdown",
   "metadata": {},
   "source": [
    "**Conclusión:** La tasa de conversion en el grupo A al comienzo de la prueba aumento y luego antes de estabilizarse disminuyo. Contrario con el grupo B que antes de estabilizarse aumento.\n",
    "- la tasa de conversión para B es mas alta que la de A"
   ]
  },
  {
   "cell_type": "markdown",
   "metadata": {},
   "source": [
    "<div class=\"alert alert-block alert-warning\">\n",
    "<b>Comentario del revisor</b> <a class=\"tocSkip\"></a>\n",
    "Excelente visualización. La conclusión podría mejorarse especificando el porcentaje de diferencia final entre los grupos y discutiendo posibles razones para los patrones observados.\n",
    "</div>"
   ]
  },
  {
   "cell_type": "markdown",
   "metadata": {},
   "source": [
    "### Gráfico de dispersión del número de pedidos por usuario"
   ]
  },
  {
   "cell_type": "code",
   "execution_count": 21,
   "metadata": {},
   "outputs": [
    {
     "data": {
      "text/plain": [
       "Text(0.5, 1.0, ' Gráfico de dispersión del número de pedidos por usuario')"
      ]
     },
     "execution_count": 21,
     "metadata": {},
     "output_type": "execute_result"
    },
    {
     "data": {
      "image/png": "[encoded data removed]",
      "text/plain": [
       "<Figure size 640x480 with 1 Axes>"
      ]
     },
     "metadata": {},
     "output_type": "display_data"
    }
   ],
   "source": [
    "#Buscamos el numero de pedidos por usuario\n",
    "ordersByUsers = (\n",
    "    data_ordenes.drop(['group', 'revenue', 'date'], axis=1)\n",
    "    .groupby('visitorid', as_index=False)\n",
    "    .agg({'transactionid': pd.Series.nunique})\n",
    ")\n",
    "\n",
    "ordersByUsers.columns = ['visitorid', 'transactionid']\n",
    "\n",
    "# Grafico de dispersión\n",
    "x_values = pd.Series(range(0,len(ordersByUsers)))\n",
    "\n",
    "plt.scatter(x_values, ordersByUsers['transactionid'])\n",
    "plt.title(' Gráfico de dispersión del número de pedidos por usuario')"
   ]
  },
  {
   "cell_type": "markdown",
   "metadata": {},
   "source": [
    "**Conclusion:** Con se esperaba hay valores atipicos."
   ]
  },
  {
   "cell_type": "markdown",
   "metadata": {},
   "source": [
    "<div class=\"alert alert-block alert-warning\">\n",
    "<b>Comentario del revisor</b> <a class=\"tocSkip\"></a>\n",
    "Buena visualización para identificar valores atípicos. La conclusión es correcta pero muy breve. Cuantifica cuántos valores atípicos se observan y discute su posible impacto en el análisis.\n",
    "</div>"
   ]
  },
  {
   "cell_type": "markdown",
   "metadata": {},
   "source": [
    "### Calcular los percentiles"
   ]
  },
  {
   "cell_type": "code",
   "execution_count": 22,
   "metadata": {},
   "outputs": [
    {
     "name": "stdout",
     "output_type": "stream",
     "text": [
      "[2. 4.]\n"
     ]
    }
   ],
   "source": [
    "# Calcular los percentiles\n",
    "print(np.percentile(ordersByUsers['transactionid'], [95, 99]))"
   ]
  },
  {
   "cell_type": "markdown",
   "metadata": {},
   "source": [
    "**Conclusión:**\n",
    "- No mas del 1% de los usuarios realizaron mas de cuatro pedidos\n",
    "- No mas del 5% de los usuarios realizaron mas de 2 pedidos."
   ]
  },
  {
   "cell_type": "markdown",
   "metadata": {},
   "source": [
    "### Gráfico de dispersión de los precios de los pedidos"
   ]
  },
  {
   "cell_type": "code",
   "execution_count": 23,
   "metadata": {},
   "outputs": [
    {
     "data": {
      "text/plain": [
       "Text(0.5, 1.0, 'Grafico de dispersión de los ingresos de los pedidos')"
      ]
     },
     "execution_count": 23,
     "metadata": {},
     "output_type": "execute_result"
    },
    {
     "data": {
      "image/png": "[encoded data removed]",
      "text/plain": [
       "<Figure size 640x480 with 1 Axes>"
      ]
     },
     "metadata": {},
     "output_type": "display_data"
    }
   ],
   "source": [
    "x_values = pd.Series(range(0, len(df_ordenes['revenue'])))\n",
    "plt.scatter(x_values, df_ordenes['revenue'])\n",
    "plt.title('Grafico de dispersión de los ingresos de los pedidos')"
   ]
  },
  {
   "cell_type": "markdown",
   "metadata": {},
   "source": [
    "**Conclusión:** "
   ]
  },
  {
   "cell_type": "markdown",
   "metadata": {},
   "source": [
    "<div class=\"alert alert-block alert-danger\">\n",
    "<b>Comentario del revisor</b> <a class=\"tocSkip\"></a>\n",
    "Se realizó el gráfico correctamente, pero falta la conclusión. Es necesario describir la distribución observada, identificar valores atípicos y discutir sus implicaciones.\n",
    "</div>"
   ]
  },
  {
   "cell_type": "markdown",
   "metadata": {},
   "source": [
    "###  Percentiles 95 y 99 de los precios de los pedidos. "
   ]
  },
  {
   "cell_type": "code",
   "execution_count": 24,
   "metadata": {},
   "outputs": [
    {
     "name": "stdout",
     "output_type": "stream",
     "text": [
      "[414.275 830.3  ]\n"
     ]
    }
   ],
   "source": [
    "# Calcular los percentiles\n",
    "print(np.percentile(df_ordenes['revenue'], [95, 99]))"
   ]
  },
  {
   "cell_type": "markdown",
   "metadata": {},
   "source": [
    "**Conclusión:** \n",
    "  - No mas del 1% de los ingresos por pedidos cuestan mas de 900.904"
   ]
  },
  {
   "cell_type": "markdown",
   "metadata": {},
   "source": [
    "<div class=\"alert alert-block alert-warning\">\n",
    "<b>Comentario del revisor</b> <a class=\"tocSkip\"></a>\n",
    "Buen cálculo de los percentiles. La conclusión solo menciona el percentil 99, incluye también el 95. Compara estos valores con el precio promedio para dar más contexto.\n",
    "</div>"
   ]
  },
  {
   "cell_type": "markdown",
   "metadata": {},
   "source": [
    "###  Significancia estadística de la diferencia en la conversión entre los grupos utilizando los datos en bruto. "
   ]
  },
  {
   "cell_type": "code",
   "execution_count": 26,
   "metadata": {},
   "outputs": [
    {
     "name": "stdout",
     "output_type": "stream",
     "text": [
      "0.011\n",
      "0.160\n"
     ]
    }
   ],
   "source": [
    "# En las variables almacenamos los usuarios con al menos un pedido, y la cantidad de pedidos.\n",
    "ordersByUsersA = df_ordenes[df_ordenes['group']=='A'].groupby('visitorid', as_index=False).agg({'transactionid' : pd.Series.nunique})\n",
    "ordersByUsersA.columns = ['visitorid', 'transactionid']\n",
    "\n",
    "ordersByUsersB = df_ordenes[df_ordenes['group']=='B'].groupby('visitorid', as_index=False).agg({'transactionid' : pd.Series.nunique})\n",
    "ordersByUsersB.columns = ['visitorid', 'transactionid']\n",
    "\n",
    "# Usuarios de cada grupo con el numero de pedidos correspondiente\n",
    "sampleA = pd.concat([ordersByUsersA['transactionid'],pd.Series(0, index=np.arange(data_visitas[data_visitas['group']=='A']['visits'].sum() - len(ordersByUsersA['transactionid'])), name='transactionid')],axis=0)\n",
    "\n",
    "sampleB = pd.concat([ordersByUsersB['transactionid'],pd.Series(0, index=np.arange(data_visitas[data_visitas['group']=='B']['visits'].sum() - len(ordersByUsersB['transactionid'])), name='transactionid')],axis=0)\n",
    "\n",
    "print(\"{0:.3f}\".format(stats.mannwhitneyu(sampleA, sampleB)[1]))\n",
    "\n",
    "print(\"{0:.3f}\".format(sampleB.mean()/sampleA.mean()-1))"
   ]
  },
  {
   "cell_type": "markdown",
   "metadata": {},
   "source": [
    "**Conclusión:** 0.01 si hay diferencia estadísticamente significativa en la conversión entre los grupos, y la ganancia de 16% en el grupo B"
   ]
  },
  {
   "cell_type": "markdown",
   "metadata": {},
   "source": [
    "### Significancia estadística de la diferencia en el tamaño promedio de pedido entre los grupos utilizando los datos en bruto."
   ]
  },
  {
   "cell_type": "code",
   "execution_count": 27,
   "metadata": {},
   "outputs": [
    {
     "name": "stdout",
     "output_type": "stream",
     "text": [
      "0.862\n",
      "0.278\n"
     ]
    }
   ],
   "source": [
    "print('{0:.3f}'.format(stats.mannwhitneyu(df_ordenes[df_ordenes['group']=='A']['revenue'], df_ordenes[df_ordenes['group']=='B']['revenue'])[1]))\n",
    "print('{0:.3f}'.format(df_ordenes[df_ordenes['group']=='B']['revenue'].mean()/df_ordenes[df_ordenes['group']=='A']['revenue'].mean()-1))"
   ]
  },
  {
   "cell_type": "markdown",
   "metadata": {},
   "source": [
    "**Conclusión:**  El tamaño medio de los pedidos difiere entre los grupos. No obstante, el tamaño de pedido promedio para el grupo B es mucho más pequeño que para el grupo A."
   ]
  },
  {
   "cell_type": "code",
   "execution_count": 35,
   "metadata": {},
   "outputs": [
    {
     "name": "stdout",
     "output_type": "stream",
     "text": [
      "33       249864742\n",
      "58       611059232\n",
      "425     1920142716\n",
      "1196    2108080724\n",
      "211     2108163459\n",
      "Name: visitorid, dtype: int64\n",
      "(9,)\n"
     ]
    }
   ],
   "source": [
    "# Encontrar el número total de usuarios anómalos\n",
    "usersWithManyOrders = pd.concat([ordersByUsersA[ordersByUsersA['transactionid'] > 2]['visitorid'], ordersByUsersB[ordersByUsersB['transactionid'] > 2]['visitorid']], axis = 0)\n",
    "usersWithExpensiveOrders = df_ordenes[df_ordenes['revenue'] > 2000]['visitorid']\n",
    "abnormalUsers = pd.concat([usersWithManyOrders, usersWithExpensiveOrders], axis = 0).drop_duplicates().sort_values()\n",
    "print(abnormalUsers.head(5))\n",
    "print(abnormalUsers.shape)"
   ]
  },
  {
   "cell_type": "markdown",
   "metadata": {},
   "source": [
    "<div class=\"alert alert-block alert-warning\">\n",
    "<b>Comentario del revisor</b> <a class=\"tocSkip\"></a>\n",
    "Buen análisis estadístico. La conclusión señala correctamente la contradicción entre la falta de significancia estadística y la gran diferencia en promedios. Discute posibles razones para esta discrepancia.\n",
    "</div>"
   ]
  },
  {
   "cell_type": "markdown",
   "metadata": {},
   "source": [
    "### Significancia estadística de la diferencia en la conversión entre los grupos utilizando los datos filtrados. Haz conclusiones y conjeturas"
   ]
  },
  {
   "cell_type": "code",
   "execution_count": 33,
   "metadata": {},
   "outputs": [
    {
     "name": "stdout",
     "output_type": "stream",
     "text": [
      "0.010\n",
      "0.181\n"
     ]
    }
   ],
   "source": [
    "sampleAFiltered = pd.concat([ordersByUsersA[np.logical_not(ordersByUsersA['visitorid'].isin(abnormalUsers))]['transactionid'],pd.Series(0, index=np.arange(data_visitas[data_visitas['group']=='A']['visits'].sum() - len(ordersByUsersA['transactionid'])),name='transactionid')],axis=0)\n",
    "sampleBFiltered = pd.concat([ordersByUsersB[np.logical_not(ordersByUsersB['visitorid'].isin(abnormalUsers))]['transactionid'],pd.Series(0, index=np.arange(data_visitas[data_visitas['group']=='B']['visits'].sum() - len(ordersByUsersB['transactionid'])),name='transactionid')],axis=0)\n",
    "\n",
    "print(\"{0:.3f}\".format(stats.mannwhitneyu(sampleAFiltered, sampleBFiltered)[1]))\n",
    "print(\"{0:.3f}\".format(sampleBFiltered.mean()/sampleAFiltered.mean()-1))\n"
   ]
  },
  {
   "cell_type": "markdown",
   "metadata": {},
   "source": [
    "**Conclusion:** Ahora el valor p es .010 No hay diferencia significativa, aunque la conversion para B aumento"
   ]
  },
  {
   "cell_type": "markdown",
   "metadata": {},
   "source": [
    "### Encuentra la significancia estadística de la diferencia en el tamaño promedio de pedido entre los grupos utilizando los datos filtrados. Haz conclusiones y conjeturas."
   ]
  },
  {
   "cell_type": "code",
   "execution_count": 41,
   "metadata": {},
   "outputs": [
    {
     "name": "stdout",
     "output_type": "stream",
     "text": [
      "0.673\n",
      "-0.091\n"
     ]
    }
   ],
   "source": [
    "print('{0:.3f}'.format(stats.mannwhitneyu(\n",
    "    df_ordenes[np.logical_and(\n",
    "        df_ordenes['group']=='A',\n",
    "        np.logical_not(df_ordenes['visitorid'].isin(abnormalUsers)))]['revenue'],\n",
    "    df_ordenes[np.logical_and(\n",
    "        df_ordenes['group']=='B',\n",
    "        np.logical_not(df_ordenes['visitorid'].isin(abnormalUsers)))]['revenue'])[1]))\n",
    "\n",
    "print('{0:.3f}'.format(\n",
    "    df_ordenes[np.logical_and(df_ordenes['group']=='B',np.logical_not(df_ordenes['visitorid'].isin(abnormalUsers)))]['revenue'].mean()/\n",
    "    df_ordenes[np.logical_and(\n",
    "        df_ordenes['group']=='A',\n",
    "        np.logical_not(df_ordenes['visitorid'].isin(abnormalUsers)))]['revenue'].mean() - 1))"
   ]
  },
  {
   "cell_type": "markdown",
   "metadata": {},
   "source": [
    "Ahora la diferencia entre los grupos en de 9% en vez de 27%. No obstante el tamaño promedio es mas pequeño para B que para A."
   ]
  },
  {
   "cell_type": "markdown",
   "metadata": {},
   "source": [
    "<div class=\"alert alert-block alert-warning\">\n",
    "<b>Comentario del revisor</b> <a class=\"tocSkip\"></a>\n",
    "Buen análisis comparativo. La conclusión señala correctamente el cambio en la diferencia entre grupos. Discute las implicaciones de este cambio y por qué podría haber ocurrido.\n",
    "</div>"
   ]
  },
  {
   "cell_type": "markdown",
   "metadata": {},
   "source": [
    "## conclusiones generales:\n",
    "\n",
    "Aunque la diferencia significativa entre los grupos, no existe en ningun momento para la conversión,  se ve reflejado que la conversión es mayor para el grupo B.\n",
    "\n",
    "la diferencia significativa entre los grupos con los datos procesados es de 9% en vez de 27% \n",
    "\n",
    "Embudo de ventas:\n",
    "\n",
    "Se trabajo solo con datos de una semana debido a que el 99% de la información se encontraba alli.\n",
    "El evento OffersScreenAppear es donde más usuarios abandonan (61.9%).\n",
    "Solo el 47.7% de los usuarios completa el embudo de ventas hasta el pago exitoso.\n",
    "No todos los usuarios siguen la ruta predestinada\n",
    "Resultados del experimento:\n",
    "No se encontraron diferencias estadísticas significativas entre los grupos de control y el grupo de prueba.\n",
    "Las nuevas fuentes no generan un impacto positivo en la conversión, por lo que no se recomienda implementar este cambio.\n",
    "\n",
    "Recomendaciones:\n",
    "Optimizar la pantalla de ofertas y pago exitoso para retener más usuarios en esa etapa.\n",
    "\n",
    "Priorizar otros cambios en el diseño o funcionalidad de la aplicación con mayor potencial de impacto\n"
   ]
  },
  {
   "cell_type": "markdown",
   "metadata": {},
   "source": []
  },
  {
   "cell_type": "code",
   "execution_count": null,
   "metadata": {},
   "outputs": [],
   "source": []
  }
 ],
 "metadata": {
  "ExecuteTimeLog": [
   {
    "duration": 2,
    "start_time": "2024-09-04T14:49:28.766Z"
   },
   {
    "duration": 16,
    "start_time": "2024-09-04T14:49:30.398Z"
   },
   {
    "duration": 13,
    "start_time": "2024-09-04T14:51:20.646Z"
   },
   {
    "duration": 7,
    "start_time": "2024-09-04T14:51:23.211Z"
   },
   {
    "duration": 8,
    "start_time": "2024-09-04T14:51:26.000Z"
   },
   {
    "duration": 19,
    "start_time": "2024-09-04T14:58:47.735Z"
   },
   {
    "duration": 2,
    "start_time": "2024-09-04T14:59:49.087Z"
   },
   {
    "duration": 8,
    "start_time": "2024-09-04T15:00:29.623Z"
   },
   {
    "duration": 410,
    "start_time": "2024-09-04T15:04:26.607Z"
   },
   {
    "duration": 1937,
    "start_time": "2024-09-04T15:05:37.727Z"
   },
   {
    "duration": 416,
    "start_time": "2024-09-04T15:05:43.445Z"
   },
   {
    "duration": 5,
    "start_time": "2024-09-04T15:11:06.719Z"
   },
   {
    "duration": 2111,
    "start_time": "2024-09-04T16:48:08.028Z"
   },
   {
    "duration": 21,
    "start_time": "2024-09-04T16:48:10.142Z"
   },
   {
    "duration": 9,
    "start_time": "2024-09-04T16:48:10.165Z"
   },
   {
    "duration": 7,
    "start_time": "2024-09-04T16:48:10.177Z"
   },
   {
    "duration": 6,
    "start_time": "2024-09-04T16:48:10.185Z"
   },
   {
    "duration": 7,
    "start_time": "2024-09-04T16:48:10.192Z"
   },
   {
    "duration": 7,
    "start_time": "2024-09-04T16:48:10.200Z"
   },
   {
    "duration": 427,
    "start_time": "2024-09-04T16:48:10.208Z"
   },
   {
    "duration": 235,
    "start_time": "2024-09-04T16:48:10.637Z"
   },
   {
    "duration": 317,
    "start_time": "2024-09-04T16:56:07.268Z"
   },
   {
    "duration": 198,
    "start_time": "2024-09-04T17:08:09.823Z"
   },
   {
    "duration": 193,
    "start_time": "2024-09-04T17:09:20.720Z"
   },
   {
    "duration": 195,
    "start_time": "2024-09-04T17:09:34.724Z"
   },
   {
    "duration": 204,
    "start_time": "2024-09-04T17:09:46.520Z"
   },
   {
    "duration": 195,
    "start_time": "2024-09-04T17:10:20.187Z"
   },
   {
    "duration": 195,
    "start_time": "2024-09-04T17:10:32.108Z"
   },
   {
    "duration": 222,
    "start_time": "2024-09-04T17:10:54.848Z"
   },
   {
    "duration": 2225,
    "start_time": "2024-09-04T18:47:01.593Z"
   },
   {
    "duration": 31,
    "start_time": "2024-09-04T18:47:03.820Z"
   },
   {
    "duration": 8,
    "start_time": "2024-09-04T18:47:03.852Z"
   },
   {
    "duration": 7,
    "start_time": "2024-09-04T18:47:03.863Z"
   },
   {
    "duration": 7,
    "start_time": "2024-09-04T18:47:03.872Z"
   },
   {
    "duration": 8,
    "start_time": "2024-09-04T18:47:03.880Z"
   },
   {
    "duration": 23,
    "start_time": "2024-09-04T18:47:03.889Z"
   },
   {
    "duration": 445,
    "start_time": "2024-09-04T18:47:03.914Z"
   },
   {
    "duration": 222,
    "start_time": "2024-09-04T18:47:04.362Z"
   },
   {
    "duration": 357,
    "start_time": "2024-09-04T18:47:04.587Z"
   },
   {
    "duration": 222,
    "start_time": "2024-09-04T18:47:04.947Z"
   },
   {
    "duration": 7,
    "start_time": "2024-09-04T18:58:49.525Z"
   },
   {
    "duration": 392,
    "start_time": "2024-09-04T19:00:06.161Z"
   },
   {
    "duration": 10,
    "start_time": "2024-09-04T19:00:50.329Z"
   },
   {
    "duration": 59,
    "start_time": "2024-09-04T19:03:39.430Z"
   },
   {
    "duration": 117,
    "start_time": "2024-09-04T19:04:04.350Z"
   },
   {
    "duration": 17,
    "start_time": "2024-09-04T19:04:22.931Z"
   },
   {
    "duration": 10,
    "start_time": "2024-09-04T19:04:27.653Z"
   },
   {
    "duration": 17,
    "start_time": "2024-09-04T19:04:44.935Z"
   },
   {
    "duration": 9,
    "start_time": "2024-09-04T19:04:48.293Z"
   },
   {
    "duration": 477,
    "start_time": "2024-09-04T19:05:13.013Z"
   },
   {
    "duration": 56,
    "start_time": "2024-09-04T19:05:13.492Z"
   },
   {
    "duration": 9,
    "start_time": "2024-09-04T19:05:13.550Z"
   },
   {
    "duration": 8,
    "start_time": "2024-09-04T19:05:13.562Z"
   },
   {
    "duration": 8,
    "start_time": "2024-09-04T19:05:13.572Z"
   },
   {
    "duration": 28,
    "start_time": "2024-09-04T19:05:13.582Z"
   },
   {
    "duration": 8,
    "start_time": "2024-09-04T19:05:13.611Z"
   },
   {
    "duration": 6,
    "start_time": "2024-09-04T19:05:13.621Z"
   },
   {
    "duration": 349,
    "start_time": "2024-09-04T19:05:13.629Z"
   },
   {
    "duration": 111,
    "start_time": "2024-09-04T19:05:13.980Z"
   },
   {
    "duration": 173,
    "start_time": "2024-09-04T19:05:14.094Z"
   },
   {
    "duration": 141,
    "start_time": "2024-09-04T19:05:14.269Z"
   },
   {
    "duration": 503,
    "start_time": "2024-09-04T19:05:52.818Z"
   },
   {
    "duration": 57,
    "start_time": "2024-09-04T19:05:53.323Z"
   },
   {
    "duration": 10,
    "start_time": "2024-09-04T19:05:53.381Z"
   },
   {
    "duration": 22,
    "start_time": "2024-09-04T19:05:53.393Z"
   },
   {
    "duration": 8,
    "start_time": "2024-09-04T19:05:53.417Z"
   },
   {
    "duration": 7,
    "start_time": "2024-09-04T19:05:53.427Z"
   },
   {
    "duration": 8,
    "start_time": "2024-09-04T19:05:53.436Z"
   },
   {
    "duration": 8,
    "start_time": "2024-09-04T19:05:53.445Z"
   },
   {
    "duration": 456,
    "start_time": "2024-09-04T19:05:53.455Z"
   },
   {
    "duration": 210,
    "start_time": "2024-09-04T19:05:53.914Z"
   },
   {
    "duration": 316,
    "start_time": "2024-09-04T19:05:54.126Z"
   },
   {
    "duration": 218,
    "start_time": "2024-09-04T19:05:54.444Z"
   },
   {
    "duration": 12,
    "start_time": "2024-09-04T19:07:49.100Z"
   },
   {
    "duration": 12,
    "start_time": "2024-09-04T19:07:59.965Z"
   },
   {
    "duration": 630,
    "start_time": "2024-09-04T19:08:01.133Z"
   },
   {
    "duration": 102,
    "start_time": "2024-09-04T19:08:10.497Z"
   },
   {
    "duration": 14,
    "start_time": "2024-09-04T19:09:48.346Z"
   },
   {
    "duration": 133,
    "start_time": "2024-09-04T19:10:01.244Z"
   },
   {
    "duration": 104,
    "start_time": "2024-09-04T19:10:41.453Z"
   },
   {
    "duration": 181,
    "start_time": "2024-09-04T19:15:18.857Z"
   },
   {
    "duration": 4,
    "start_time": "2024-09-04T19:17:29.670Z"
   },
   {
    "duration": 4,
    "start_time": "2024-09-04T19:22:29.448Z"
   },
   {
    "duration": 8,
    "start_time": "2024-09-04T19:24:51.863Z"
   },
   {
    "duration": 134,
    "start_time": "2024-09-04T19:25:42.028Z"
   },
   {
    "duration": 233,
    "start_time": "2024-09-04T19:26:53.361Z"
   },
   {
    "duration": 4,
    "start_time": "2024-09-04T19:28:02.359Z"
   },
   {
    "duration": 194,
    "start_time": "2024-09-05T14:28:44.655Z"
   },
   {
    "duration": 13,
    "start_time": "2024-09-05T14:29:18.101Z"
   },
   {
    "duration": 2536,
    "start_time": "2024-09-05T14:29:30.294Z"
   },
   {
    "duration": 25,
    "start_time": "2024-09-05T14:29:32.832Z"
   },
   {
    "duration": 10,
    "start_time": "2024-09-05T14:29:32.858Z"
   },
   {
    "duration": 16,
    "start_time": "2024-09-05T14:29:32.870Z"
   },
   {
    "duration": 10,
    "start_time": "2024-09-05T14:29:32.888Z"
   },
   {
    "duration": 7,
    "start_time": "2024-09-05T14:29:32.900Z"
   },
   {
    "duration": 7,
    "start_time": "2024-09-05T14:29:32.909Z"
   },
   {
    "duration": 8,
    "start_time": "2024-09-05T14:29:32.917Z"
   },
   {
    "duration": 511,
    "start_time": "2024-09-05T14:29:32.926Z"
   },
   {
    "duration": 281,
    "start_time": "2024-09-05T14:29:33.440Z"
   },
   {
    "duration": 305,
    "start_time": "2024-09-05T14:29:33.722Z"
   },
   {
    "duration": 251,
    "start_time": "2024-09-05T14:29:34.029Z"
   },
   {
    "duration": 9,
    "start_time": "2024-09-05T14:29:34.294Z"
   },
   {
    "duration": 231,
    "start_time": "2024-09-05T14:29:34.305Z"
   },
   {
    "duration": 5,
    "start_time": "2024-09-05T14:29:34.538Z"
   },
   {
    "duration": 130,
    "start_time": "2024-09-05T14:29:34.544Z"
   },
   {
    "duration": 5,
    "start_time": "2024-09-05T14:29:34.680Z"
   },
   {
    "duration": 6,
    "start_time": "2024-09-05T14:30:15.064Z"
   },
   {
    "duration": 6,
    "start_time": "2024-09-05T14:30:23.494Z"
   },
   {
    "duration": 5,
    "start_time": "2024-09-05T14:30:53.094Z"
   },
   {
    "duration": 10,
    "start_time": "2024-09-05T14:31:24.448Z"
   },
   {
    "duration": 6,
    "start_time": "2024-09-05T14:32:52.249Z"
   },
   {
    "duration": 216,
    "start_time": "2024-09-05T14:33:02.439Z"
   },
   {
    "duration": 14,
    "start_time": "2024-09-05T14:33:05.103Z"
   },
   {
    "duration": 7,
    "start_time": "2024-09-05T14:33:31.535Z"
   },
   {
    "duration": 11,
    "start_time": "2024-09-05T14:33:45.937Z"
   },
   {
    "duration": 13,
    "start_time": "2024-09-05T14:34:39.490Z"
   },
   {
    "duration": 7,
    "start_time": "2024-09-05T14:51:49.695Z"
   },
   {
    "duration": 19,
    "start_time": "2024-09-05T14:52:03.059Z"
   },
   {
    "duration": 9,
    "start_time": "2024-09-05T14:52:28.999Z"
   },
   {
    "duration": 2122,
    "start_time": "2024-09-05T16:41:03.829Z"
   },
   {
    "duration": 28,
    "start_time": "2024-09-05T16:41:12.261Z"
   },
   {
    "duration": 6,
    "start_time": "2024-09-05T16:41:19.124Z"
   },
   {
    "duration": 4,
    "start_time": "2024-09-05T16:41:34.439Z"
   },
   {
    "duration": 5,
    "start_time": "2024-09-05T16:41:42.982Z"
   },
   {
    "duration": 3,
    "start_time": "2024-09-05T16:42:26.533Z"
   },
   {
    "duration": 11,
    "start_time": "2024-09-05T16:42:43.029Z"
   },
   {
    "duration": 19,
    "start_time": "2024-09-05T16:43:04.440Z"
   },
   {
    "duration": 10,
    "start_time": "2024-09-05T16:44:01.671Z"
   },
   {
    "duration": 13,
    "start_time": "2024-09-05T16:47:41.249Z"
   },
   {
    "duration": 12,
    "start_time": "2024-09-05T16:48:07.803Z"
   },
   {
    "duration": 6,
    "start_time": "2024-09-05T16:49:53.367Z"
   },
   {
    "duration": 7,
    "start_time": "2024-09-05T16:50:20.084Z"
   },
   {
    "duration": 8,
    "start_time": "2024-09-05T16:50:35.416Z"
   },
   {
    "duration": 7,
    "start_time": "2024-09-05T16:50:57.235Z"
   },
   {
    "duration": 7,
    "start_time": "2024-09-05T16:51:04.385Z"
   },
   {
    "duration": 8,
    "start_time": "2024-09-05T16:51:12.783Z"
   },
   {
    "duration": 6,
    "start_time": "2024-09-05T16:51:22.621Z"
   },
   {
    "duration": 6,
    "start_time": "2024-09-05T16:51:50.305Z"
   },
   {
    "duration": 911,
    "start_time": "2024-09-05T16:52:29.944Z"
   },
   {
    "duration": 457,
    "start_time": "2024-09-05T16:52:45.267Z"
   },
   {
    "duration": 57,
    "start_time": "2024-09-05T16:52:45.726Z"
   },
   {
    "duration": 9,
    "start_time": "2024-09-05T16:52:45.785Z"
   },
   {
    "duration": 8,
    "start_time": "2024-09-05T16:52:45.796Z"
   },
   {
    "duration": 8,
    "start_time": "2024-09-05T16:52:45.806Z"
   },
   {
    "duration": 7,
    "start_time": "2024-09-05T16:52:45.842Z"
   },
   {
    "duration": 5,
    "start_time": "2024-09-05T16:52:46.009Z"
   },
   {
    "duration": 5,
    "start_time": "2024-09-05T16:52:50.053Z"
   },
   {
    "duration": 3,
    "start_time": "2024-09-05T16:52:50.061Z"
   },
   {
    "duration": 17,
    "start_time": "2024-09-05T16:52:51.371Z"
   },
   {
    "duration": 8,
    "start_time": "2024-09-05T16:52:51.390Z"
   },
   {
    "duration": 10,
    "start_time": "2024-09-05T16:52:51.399Z"
   },
   {
    "duration": 15,
    "start_time": "2024-09-05T16:52:54.057Z"
   },
   {
    "duration": 7,
    "start_time": "2024-09-05T16:52:54.074Z"
   },
   {
    "duration": 7,
    "start_time": "2024-09-05T16:52:54.082Z"
   },
   {
    "duration": 407,
    "start_time": "2024-09-05T16:52:54.611Z"
   },
   {
    "duration": 215,
    "start_time": "2024-09-05T16:52:55.020Z"
   },
   {
    "duration": 301,
    "start_time": "2024-09-05T16:52:55.237Z"
   },
   {
    "duration": 208,
    "start_time": "2024-09-05T16:52:55.540Z"
   },
   {
    "duration": 8,
    "start_time": "2024-09-05T16:52:55.751Z"
   },
   {
    "duration": 217,
    "start_time": "2024-09-05T16:52:55.761Z"
   },
   {
    "duration": 4,
    "start_time": "2024-09-05T16:52:55.980Z"
   },
   {
    "duration": 121,
    "start_time": "2024-09-05T16:52:55.986Z"
   },
   {
    "duration": 4,
    "start_time": "2024-09-05T16:52:56.109Z"
   },
   {
    "duration": 3,
    "start_time": "2024-09-05T16:53:33.420Z"
   },
   {
    "duration": 193,
    "start_time": "2024-09-05T17:00:19.442Z"
   },
   {
    "duration": 4,
    "start_time": "2024-09-05T17:00:37.533Z"
   },
   {
    "duration": 7,
    "start_time": "2024-09-05T17:00:50.017Z"
   },
   {
    "duration": 7,
    "start_time": "2024-09-05T17:00:52.158Z"
   },
   {
    "duration": 7,
    "start_time": "2024-09-05T17:00:53.802Z"
   },
   {
    "duration": 5,
    "start_time": "2024-09-05T17:01:34.545Z"
   },
   {
    "duration": 3,
    "start_time": "2024-09-05T17:13:40.312Z"
   },
   {
    "duration": 5,
    "start_time": "2024-09-05T17:13:49.791Z"
   },
   {
    "duration": 6,
    "start_time": "2024-09-05T17:14:28.036Z"
   },
   {
    "duration": 6,
    "start_time": "2024-09-05T17:14:42.126Z"
   },
   {
    "duration": 377,
    "start_time": "2024-09-05T17:15:29.238Z"
   },
   {
    "duration": 4,
    "start_time": "2024-09-05T17:15:44.826Z"
   },
   {
    "duration": 5,
    "start_time": "2024-09-05T17:15:47.880Z"
   },
   {
    "duration": 8,
    "start_time": "2024-09-05T17:16:57.668Z"
   },
   {
    "duration": 6,
    "start_time": "2024-09-05T17:17:16.709Z"
   },
   {
    "duration": 2064,
    "start_time": "2024-09-05T19:09:13.930Z"
   },
   {
    "duration": 25,
    "start_time": "2024-09-05T19:09:17.269Z"
   },
   {
    "duration": 5,
    "start_time": "2024-09-05T19:09:24.134Z"
   },
   {
    "duration": 6,
    "start_time": "2024-09-05T19:09:28.883Z"
   },
   {
    "duration": 6,
    "start_time": "2024-09-05T19:10:45.317Z"
   },
   {
    "duration": 12,
    "start_time": "2024-09-05T19:11:03.638Z"
   },
   {
    "duration": 12,
    "start_time": "2024-09-05T19:11:49.692Z"
   },
   {
    "duration": 6,
    "start_time": "2024-09-05T19:12:06.981Z"
   },
   {
    "duration": 12,
    "start_time": "2024-09-05T19:12:35.573Z"
   },
   {
    "duration": 12,
    "start_time": "2024-09-05T19:13:05.636Z"
   },
   {
    "duration": 5,
    "start_time": "2024-09-05T19:14:38.643Z"
   },
   {
    "duration": 6,
    "start_time": "2024-09-05T19:15:30.986Z"
   },
   {
    "duration": 5,
    "start_time": "2024-09-05T19:16:20.695Z"
   },
   {
    "duration": 7,
    "start_time": "2024-09-05T19:17:49.459Z"
   },
   {
    "duration": 6,
    "start_time": "2024-09-05T19:19:03.547Z"
   },
   {
    "duration": 10,
    "start_time": "2024-09-05T19:19:07.006Z"
   },
   {
    "duration": 5,
    "start_time": "2024-09-05T19:19:19.648Z"
   },
   {
    "duration": 5,
    "start_time": "2024-09-05T19:19:46.754Z"
   },
   {
    "duration": 11,
    "start_time": "2024-09-05T19:20:08.617Z"
   },
   {
    "duration": 10,
    "start_time": "2024-09-05T19:20:27.225Z"
   },
   {
    "duration": 4,
    "start_time": "2024-09-05T19:21:10.073Z"
   },
   {
    "duration": 8,
    "start_time": "2024-09-05T19:21:46.366Z"
   },
   {
    "duration": 7,
    "start_time": "2024-09-05T19:28:21.992Z"
   },
   {
    "duration": 11,
    "start_time": "2024-09-05T19:29:39.320Z"
   },
   {
    "duration": 2206,
    "start_time": "2024-09-05T23:44:06.195Z"
   },
   {
    "duration": 33,
    "start_time": "2024-09-05T23:44:08.403Z"
   },
   {
    "duration": 9,
    "start_time": "2024-09-05T23:44:08.438Z"
   },
   {
    "duration": 9,
    "start_time": "2024-09-05T23:44:08.449Z"
   },
   {
    "duration": 9,
    "start_time": "2024-09-05T23:44:08.461Z"
   },
   {
    "duration": 6,
    "start_time": "2024-09-05T23:44:08.472Z"
   },
   {
    "duration": 519,
    "start_time": "2024-09-05T23:44:08.480Z"
   },
   {
    "duration": 0,
    "start_time": "2024-09-05T23:44:09.001Z"
   },
   {
    "duration": 0,
    "start_time": "2024-09-05T23:44:09.003Z"
   },
   {
    "duration": 0,
    "start_time": "2024-09-05T23:44:09.004Z"
   },
   {
    "duration": 0,
    "start_time": "2024-09-05T23:44:09.006Z"
   },
   {
    "duration": 0,
    "start_time": "2024-09-05T23:44:09.007Z"
   },
   {
    "duration": 0,
    "start_time": "2024-09-05T23:44:09.009Z"
   },
   {
    "duration": 0,
    "start_time": "2024-09-05T23:44:09.010Z"
   },
   {
    "duration": 0,
    "start_time": "2024-09-05T23:44:09.011Z"
   },
   {
    "duration": 0,
    "start_time": "2024-09-05T23:44:09.013Z"
   },
   {
    "duration": 0,
    "start_time": "2024-09-05T23:44:09.030Z"
   },
   {
    "duration": 0,
    "start_time": "2024-09-05T23:44:09.032Z"
   },
   {
    "duration": 0,
    "start_time": "2024-09-05T23:44:09.033Z"
   },
   {
    "duration": 0,
    "start_time": "2024-09-05T23:44:09.035Z"
   },
   {
    "duration": 0,
    "start_time": "2024-09-05T23:44:09.036Z"
   },
   {
    "duration": 0,
    "start_time": "2024-09-05T23:44:09.037Z"
   },
   {
    "duration": 0,
    "start_time": "2024-09-05T23:44:09.039Z"
   },
   {
    "duration": 0,
    "start_time": "2024-09-05T23:44:09.040Z"
   },
   {
    "duration": 6,
    "start_time": "2024-09-05T23:45:01.035Z"
   },
   {
    "duration": 6,
    "start_time": "2024-09-05T23:45:28.523Z"
   },
   {
    "duration": 7,
    "start_time": "2024-09-05T23:46:13.669Z"
   },
   {
    "duration": 6,
    "start_time": "2024-09-05T23:46:25.596Z"
   },
   {
    "duration": 17,
    "start_time": "2024-09-05T23:47:38.919Z"
   },
   {
    "duration": 4,
    "start_time": "2024-09-05T23:48:01.794Z"
   },
   {
    "duration": 5,
    "start_time": "2024-09-05T23:48:12.251Z"
   },
   {
    "duration": 14,
    "start_time": "2024-09-05T23:48:42.475Z"
   },
   {
    "duration": 365,
    "start_time": "2024-09-05T23:49:00.876Z"
   },
   {
    "duration": 4,
    "start_time": "2024-09-05T23:49:06.360Z"
   },
   {
    "duration": 5,
    "start_time": "2024-09-06T00:02:16.248Z"
   },
   {
    "duration": 410,
    "start_time": "2024-09-06T00:39:51.724Z"
   },
   {
    "duration": 42,
    "start_time": "2024-09-06T00:46:44.448Z"
   },
   {
    "duration": 6,
    "start_time": "2024-09-06T00:46:50.817Z"
   },
   {
    "duration": 408,
    "start_time": "2024-09-06T00:49:49.807Z"
   },
   {
    "duration": 422,
    "start_time": "2024-09-06T00:53:12.585Z"
   },
   {
    "duration": 412,
    "start_time": "2024-09-06T00:53:53.872Z"
   },
   {
    "duration": 759,
    "start_time": "2024-09-06T00:54:08.567Z"
   },
   {
    "duration": 19,
    "start_time": "2024-09-06T00:54:09.332Z"
   },
   {
    "duration": 8,
    "start_time": "2024-09-06T00:54:09.353Z"
   },
   {
    "duration": 7,
    "start_time": "2024-09-06T00:54:09.364Z"
   },
   {
    "duration": 8,
    "start_time": "2024-09-06T00:54:09.373Z"
   },
   {
    "duration": 3,
    "start_time": "2024-09-06T00:54:09.383Z"
   },
   {
    "duration": 5,
    "start_time": "2024-09-06T00:54:09.388Z"
   },
   {
    "duration": 252,
    "start_time": "2024-09-06T00:54:09.395Z"
   },
   {
    "duration": 0,
    "start_time": "2024-09-06T00:54:09.650Z"
   },
   {
    "duration": 0,
    "start_time": "2024-09-06T00:54:09.652Z"
   },
   {
    "duration": 0,
    "start_time": "2024-09-06T00:54:09.653Z"
   },
   {
    "duration": 0,
    "start_time": "2024-09-06T00:54:09.654Z"
   },
   {
    "duration": 0,
    "start_time": "2024-09-06T00:54:09.656Z"
   },
   {
    "duration": 0,
    "start_time": "2024-09-06T00:54:09.657Z"
   },
   {
    "duration": 0,
    "start_time": "2024-09-06T00:54:09.658Z"
   },
   {
    "duration": 0,
    "start_time": "2024-09-06T00:54:09.659Z"
   },
   {
    "duration": 0,
    "start_time": "2024-09-06T00:54:09.660Z"
   },
   {
    "duration": 0,
    "start_time": "2024-09-06T00:54:09.661Z"
   },
   {
    "duration": 0,
    "start_time": "2024-09-06T00:54:09.663Z"
   },
   {
    "duration": 0,
    "start_time": "2024-09-06T00:54:09.664Z"
   },
   {
    "duration": 0,
    "start_time": "2024-09-06T00:54:09.665Z"
   },
   {
    "duration": 0,
    "start_time": "2024-09-06T00:54:09.667Z"
   },
   {
    "duration": 0,
    "start_time": "2024-09-06T00:54:09.668Z"
   },
   {
    "duration": 0,
    "start_time": "2024-09-06T00:54:09.670Z"
   },
   {
    "duration": 0,
    "start_time": "2024-09-06T00:54:09.671Z"
   },
   {
    "duration": 0,
    "start_time": "2024-09-06T00:54:09.673Z"
   },
   {
    "duration": 0,
    "start_time": "2024-09-06T00:54:09.674Z"
   },
   {
    "duration": 794,
    "start_time": "2024-09-06T00:54:29.356Z"
   },
   {
    "duration": 17,
    "start_time": "2024-09-06T00:54:30.152Z"
   },
   {
    "duration": 10,
    "start_time": "2024-09-06T00:54:30.171Z"
   },
   {
    "duration": 8,
    "start_time": "2024-09-06T00:54:30.183Z"
   },
   {
    "duration": 8,
    "start_time": "2024-09-06T00:54:30.192Z"
   },
   {
    "duration": 29,
    "start_time": "2024-09-06T00:54:30.202Z"
   },
   {
    "duration": 6,
    "start_time": "2024-09-06T00:54:30.232Z"
   },
   {
    "duration": 5,
    "start_time": "2024-09-06T00:54:30.239Z"
   },
   {
    "duration": 5,
    "start_time": "2024-09-06T00:54:30.246Z"
   },
   {
    "duration": 2,
    "start_time": "2024-09-06T00:54:30.254Z"
   },
   {
    "duration": 240,
    "start_time": "2024-09-06T00:54:30.257Z"
   },
   {
    "duration": 0,
    "start_time": "2024-09-06T00:54:30.499Z"
   },
   {
    "duration": 0,
    "start_time": "2024-09-06T00:54:30.500Z"
   },
   {
    "duration": 0,
    "start_time": "2024-09-06T00:54:30.502Z"
   },
   {
    "duration": 0,
    "start_time": "2024-09-06T00:54:30.503Z"
   },
   {
    "duration": 0,
    "start_time": "2024-09-06T00:54:30.504Z"
   },
   {
    "duration": 0,
    "start_time": "2024-09-06T00:54:30.505Z"
   },
   {
    "duration": 0,
    "start_time": "2024-09-06T00:54:30.506Z"
   },
   {
    "duration": 0,
    "start_time": "2024-09-06T00:54:30.507Z"
   },
   {
    "duration": 0,
    "start_time": "2024-09-06T00:54:30.509Z"
   },
   {
    "duration": 0,
    "start_time": "2024-09-06T00:54:30.510Z"
   },
   {
    "duration": 0,
    "start_time": "2024-09-06T00:54:30.511Z"
   },
   {
    "duration": 0,
    "start_time": "2024-09-06T00:54:30.531Z"
   },
   {
    "duration": 0,
    "start_time": "2024-09-06T00:54:30.533Z"
   },
   {
    "duration": 0,
    "start_time": "2024-09-06T00:54:30.534Z"
   },
   {
    "duration": 0,
    "start_time": "2024-09-06T00:54:30.535Z"
   },
   {
    "duration": 783,
    "start_time": "2024-09-06T00:54:48.566Z"
   },
   {
    "duration": 16,
    "start_time": "2024-09-06T00:54:49.352Z"
   },
   {
    "duration": 10,
    "start_time": "2024-09-06T00:54:49.369Z"
   },
   {
    "duration": 8,
    "start_time": "2024-09-06T00:54:49.381Z"
   },
   {
    "duration": 7,
    "start_time": "2024-09-06T00:54:49.392Z"
   },
   {
    "duration": 4,
    "start_time": "2024-09-06T00:54:49.401Z"
   },
   {
    "duration": 31,
    "start_time": "2024-09-06T00:54:49.407Z"
   },
   {
    "duration": 6,
    "start_time": "2024-09-06T00:54:49.440Z"
   },
   {
    "duration": 4,
    "start_time": "2024-09-06T00:54:49.448Z"
   },
   {
    "duration": 3,
    "start_time": "2024-09-06T00:54:49.453Z"
   },
   {
    "duration": 6,
    "start_time": "2024-09-06T00:54:49.458Z"
   },
   {
    "duration": 3,
    "start_time": "2024-09-06T00:54:49.466Z"
   },
   {
    "duration": 3,
    "start_time": "2024-09-06T00:54:49.471Z"
   },
   {
    "duration": 6,
    "start_time": "2024-09-06T00:54:49.477Z"
   },
   {
    "duration": 47,
    "start_time": "2024-09-06T00:54:49.484Z"
   },
   {
    "duration": 8,
    "start_time": "2024-09-06T00:54:49.533Z"
   },
   {
    "duration": 466,
    "start_time": "2024-09-06T00:54:49.542Z"
   },
   {
    "duration": 203,
    "start_time": "2024-09-06T00:54:50.010Z"
   },
   {
    "duration": 284,
    "start_time": "2024-09-06T00:54:50.215Z"
   },
   {
    "duration": 259,
    "start_time": "2024-09-06T00:54:50.501Z"
   },
   {
    "duration": 7,
    "start_time": "2024-09-06T00:54:50.762Z"
   },
   {
    "duration": 254,
    "start_time": "2024-09-06T00:54:50.770Z"
   },
   {
    "duration": 4,
    "start_time": "2024-09-06T00:54:51.030Z"
   },
   {
    "duration": 117,
    "start_time": "2024-09-06T00:54:51.036Z"
   },
   {
    "duration": 3,
    "start_time": "2024-09-06T00:54:51.155Z"
   },
   {
    "duration": 422,
    "start_time": "2024-09-06T00:59:13.019Z"
   },
   {
    "duration": 194,
    "start_time": "2024-09-06T01:10:06.688Z"
   },
   {
    "duration": 258,
    "start_time": "2024-09-06T01:12:25.011Z"
   },
   {
    "duration": 197,
    "start_time": "2024-09-06T01:35:05.645Z"
   },
   {
    "duration": 208,
    "start_time": "2024-09-06T01:35:51.664Z"
   },
   {
    "duration": 222,
    "start_time": "2024-09-06T01:36:44.125Z"
   },
   {
    "duration": 116,
    "start_time": "2024-09-06T01:50:08.284Z"
   },
   {
    "duration": 113,
    "start_time": "2024-09-06T01:51:26.609Z"
   },
   {
    "duration": 8,
    "start_time": "2024-09-06T02:05:44.473Z"
   },
   {
    "duration": 4,
    "start_time": "2024-09-06T02:06:30.060Z"
   },
   {
    "duration": 109,
    "start_time": "2024-09-06T02:06:40.066Z"
   },
   {
    "duration": 7,
    "start_time": "2024-09-06T02:11:45.498Z"
   },
   {
    "duration": 889,
    "start_time": "2024-09-06T02:12:05.477Z"
   },
   {
    "duration": 113,
    "start_time": "2024-09-06T02:12:37.441Z"
   },
   {
    "duration": 128,
    "start_time": "2024-09-06T02:15:12.577Z"
   },
   {
    "duration": 3,
    "start_time": "2024-09-06T02:15:38.880Z"
   },
   {
    "duration": 137,
    "start_time": "2024-09-06T02:15:47.422Z"
   },
   {
    "duration": 2,
    "start_time": "2024-09-06T02:18:05.671Z"
   },
   {
    "duration": 129,
    "start_time": "2024-09-06T02:18:15.430Z"
   },
   {
    "duration": 2794,
    "start_time": "2024-09-06T02:55:11.432Z"
   },
   {
    "duration": 27,
    "start_time": "2024-09-06T02:55:14.230Z"
   },
   {
    "duration": 11,
    "start_time": "2024-09-06T02:55:14.259Z"
   },
   {
    "duration": 9,
    "start_time": "2024-09-06T02:55:14.272Z"
   },
   {
    "duration": 8,
    "start_time": "2024-09-06T02:55:14.282Z"
   },
   {
    "duration": 19,
    "start_time": "2024-09-06T02:55:14.291Z"
   },
   {
    "duration": 7,
    "start_time": "2024-09-06T02:55:14.312Z"
   },
   {
    "duration": 5,
    "start_time": "2024-09-06T02:55:14.322Z"
   },
   {
    "duration": 3,
    "start_time": "2024-09-06T02:55:14.329Z"
   },
   {
    "duration": 9,
    "start_time": "2024-09-06T02:55:14.336Z"
   },
   {
    "duration": 5,
    "start_time": "2024-09-06T02:55:14.346Z"
   },
   {
    "duration": 6,
    "start_time": "2024-09-06T02:55:14.353Z"
   },
   {
    "duration": 49,
    "start_time": "2024-09-06T02:55:14.361Z"
   },
   {
    "duration": 9,
    "start_time": "2024-09-06T02:55:14.412Z"
   },
   {
    "duration": 8,
    "start_time": "2024-09-06T02:55:14.425Z"
   },
   {
    "duration": 499,
    "start_time": "2024-09-06T02:55:14.435Z"
   },
   {
    "duration": 246,
    "start_time": "2024-09-06T02:55:14.937Z"
   },
   {
    "duration": 323,
    "start_time": "2024-09-06T02:55:15.186Z"
   },
   {
    "duration": 221,
    "start_time": "2024-09-06T02:55:15.512Z"
   },
   {
    "duration": 13,
    "start_time": "2024-09-06T02:55:15.735Z"
   },
   {
    "duration": 281,
    "start_time": "2024-09-06T02:55:15.751Z"
   },
   {
    "duration": 5,
    "start_time": "2024-09-06T02:55:16.035Z"
   },
   {
    "duration": 165,
    "start_time": "2024-09-06T02:55:16.042Z"
   },
   {
    "duration": 5,
    "start_time": "2024-09-06T02:55:16.210Z"
   },
   {
    "duration": 8,
    "start_time": "2024-09-06T02:55:16.217Z"
   },
   {
    "duration": 192,
    "start_time": "2024-09-06T02:55:16.227Z"
   },
   {
    "duration": 323,
    "start_time": "2024-09-06T02:55:16.424Z"
   },
   {
    "duration": 10,
    "start_time": "2024-09-06T02:56:30.529Z"
   },
   {
    "duration": 6,
    "start_time": "2024-09-06T02:57:37.201Z"
   },
   {
    "duration": 4,
    "start_time": "2024-09-06T03:18:52.219Z"
   },
   {
    "duration": 4,
    "start_time": "2024-09-06T03:45:18.903Z"
   },
   {
    "duration": 108,
    "start_time": "2024-09-06T03:46:36.102Z"
   },
   {
    "duration": 417,
    "start_time": "2024-09-06T03:47:27.113Z"
   },
   {
    "duration": 49,
    "start_time": "2024-09-06T03:48:46.993Z"
   },
   {
    "duration": 7,
    "start_time": "2024-09-06T03:48:58.113Z"
   },
   {
    "duration": 2548,
    "start_time": "2024-09-06T14:26:34.961Z"
   },
   {
    "duration": 31,
    "start_time": "2024-09-06T14:26:37.512Z"
   },
   {
    "duration": 10,
    "start_time": "2024-09-06T14:26:37.545Z"
   },
   {
    "duration": 8,
    "start_time": "2024-09-06T14:26:37.557Z"
   },
   {
    "duration": 8,
    "start_time": "2024-09-06T14:26:37.567Z"
   },
   {
    "duration": 4,
    "start_time": "2024-09-06T14:26:37.577Z"
   },
   {
    "duration": 29,
    "start_time": "2024-09-06T14:26:37.583Z"
   },
   {
    "duration": 6,
    "start_time": "2024-09-06T14:26:37.613Z"
   },
   {
    "duration": 2,
    "start_time": "2024-09-06T14:26:37.621Z"
   },
   {
    "duration": 7,
    "start_time": "2024-09-06T14:26:37.626Z"
   },
   {
    "duration": 3,
    "start_time": "2024-09-06T14:26:37.635Z"
   },
   {
    "duration": 5,
    "start_time": "2024-09-06T14:26:37.640Z"
   },
   {
    "duration": 6,
    "start_time": "2024-09-06T14:26:37.646Z"
   },
   {
    "duration": 8,
    "start_time": "2024-09-06T14:26:37.654Z"
   },
   {
    "duration": 7,
    "start_time": "2024-09-06T14:26:37.663Z"
   },
   {
    "duration": 460,
    "start_time": "2024-09-06T14:26:37.710Z"
   },
   {
    "duration": 227,
    "start_time": "2024-09-06T14:26:38.173Z"
   },
   {
    "duration": 324,
    "start_time": "2024-09-06T14:26:38.401Z"
   },
   {
    "duration": 218,
    "start_time": "2024-09-06T14:26:38.727Z"
   },
   {
    "duration": 9,
    "start_time": "2024-09-06T14:26:38.947Z"
   },
   {
    "duration": 228,
    "start_time": "2024-09-06T14:26:38.959Z"
   },
   {
    "duration": 3,
    "start_time": "2024-09-06T14:26:39.189Z"
   },
   {
    "duration": 210,
    "start_time": "2024-09-06T14:26:39.195Z"
   },
   {
    "duration": 4,
    "start_time": "2024-09-06T14:26:39.409Z"
   },
   {
    "duration": 7,
    "start_time": "2024-09-06T14:26:39.415Z"
   },
   {
    "duration": 139,
    "start_time": "2024-09-06T14:26:39.423Z"
   },
   {
    "duration": 7,
    "start_time": "2024-09-06T14:26:39.565Z"
   },
   {
    "duration": 7,
    "start_time": "2024-09-06T14:26:39.574Z"
   },
   {
    "duration": 276,
    "start_time": "2024-09-06T14:31:15.710Z"
   },
   {
    "duration": 483,
    "start_time": "2024-09-06T14:32:32.251Z"
   },
   {
    "duration": 9,
    "start_time": "2024-09-06T14:32:59.198Z"
   },
   {
    "duration": 25,
    "start_time": "2024-09-06T14:34:42.105Z"
   },
   {
    "duration": 30,
    "start_time": "2024-09-06T14:35:24.198Z"
   },
   {
    "duration": 21,
    "start_time": "2024-09-06T14:40:59.819Z"
   },
   {
    "duration": 9,
    "start_time": "2024-09-06T14:41:19.796Z"
   },
   {
    "duration": 25,
    "start_time": "2024-09-06T14:42:20.816Z"
   },
   {
    "duration": 8,
    "start_time": "2024-09-06T14:44:51.327Z"
   },
   {
    "duration": 22,
    "start_time": "2024-09-06T14:45:45.209Z"
   },
   {
    "duration": 13,
    "start_time": "2024-09-06T14:45:58.518Z"
   },
   {
    "duration": 8,
    "start_time": "2024-09-06T14:47:14.621Z"
   },
   {
    "duration": 12,
    "start_time": "2024-09-06T14:47:17.767Z"
   },
   {
    "duration": 9,
    "start_time": "2024-09-06T17:22:48.822Z"
   },
   {
    "duration": 8,
    "start_time": "2024-09-07T03:10:36.089Z"
   },
   {
    "duration": 3,
    "start_time": "2024-09-07T03:14:45.655Z"
   }
  ],
  "kernelspec": {
   "display_name": "Python 3 (ipykernel)",
   "language": "python",
   "name": "python3"
  },
  "language_info": {
   "codemirror_mode": {
    "name": "ipython",
    "version": 3
   },
   "file_extension": ".py",
   "mimetype": "text/x-python",
   "name": "python",
   "nbconvert_exporter": "python",
   "pygments_lexer": "ipython3",
   "version": "3.9.19"
  },
  "toc": {
   "base_numbering": 1,
   "nav_menu": {},
   "number_sections": true,
   "sideBar": true,
   "skip_h1_title": true,
   "title_cell": "Table of Contents",
   "title_sidebar": "Contents",
   "toc_cell": false,
   "toc_position": {
    "height": "calc(100% - 180px)",
    "left": "10px",
    "top": "150px",
    "width": "250.693px"
   },
   "toc_section_display": true,
   "toc_window_display": true
  }
 },
 "nbformat": 4,
 "nbformat_minor": 2
}
